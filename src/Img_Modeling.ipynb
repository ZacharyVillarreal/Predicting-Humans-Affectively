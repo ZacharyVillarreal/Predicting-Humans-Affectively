{
 "cells": [
  {
   "cell_type": "markdown",
   "metadata": {},
   "source": [
    "## Import Libraries"
   ]
  },
  {
   "cell_type": "code",
   "execution_count": 1,
   "metadata": {},
   "outputs": [
    {
     "name": "stderr",
     "output_type": "stream",
     "text": [
      "Using TensorFlow backend.\n"
     ]
    },
    {
     "name": "stdout",
     "output_type": "stream",
     "text": [
      "WARNING:tensorflow:From /home/ubuntu/anaconda3/envs/tensorflow_p36/lib/python3.6/site-packages/tensorflow_core/__init__.py:1473: The name tf.estimator.inputs is deprecated. Please use tf.compat.v1.estimator.inputs instead.\n",
      "\n"
     ]
    }
   ],
   "source": [
    "import numpy as np\n",
    "import pandas as pd\n",
    "import matplotlib.pyplot as plt\n",
    "import seaborn \n",
    "\n",
    "%matplotlib inline\n",
    "plt.style.use('ggplot')\n",
    "\n",
    "from sklearn.model_selection import train_test_split\n",
    "\n",
    "# Neural Network Imports\n",
    "from keras.models import Sequential\n",
    "from keras.layers import Dense , Activation , Dropout ,Flatten\n",
    "from keras.layers.convolutional import Conv2D, Conv1D\n",
    "from keras.layers.convolutional import MaxPooling2D\n",
    "from keras.metrics import categorical_accuracy\n",
    "from keras.models import model_from_json\n",
    "from keras.callbacks import ModelCheckpoint\n",
    "from keras.optimizers import *\n",
    "from keras.layers.normalization import BatchNormalization\n",
    "from keras.preprocessing.image import ImageDataGenerator"
   ]
  },
  {
   "cell_type": "markdown",
   "metadata": {},
   "source": [
    "## Import Image Dataset"
   ]
  },
  {
   "cell_type": "code",
   "execution_count": 2,
   "metadata": {},
   "outputs": [],
   "source": [
    "df = pd.read_csv('../data/fer2013.csv')"
   ]
  },
  {
   "cell_type": "code",
   "execution_count": 17,
   "metadata": {},
   "outputs": [
    {
     "data": {
      "text/html": [
       "<div>\n",
       "<style scoped>\n",
       "    .dataframe tbody tr th:only-of-type {\n",
       "        vertical-align: middle;\n",
       "    }\n",
       "\n",
       "    .dataframe tbody tr th {\n",
       "        vertical-align: top;\n",
       "    }\n",
       "\n",
       "    .dataframe thead th {\n",
       "        text-align: right;\n",
       "    }\n",
       "</style>\n",
       "<table border=\"1\" class=\"dataframe\">\n",
       "  <thead>\n",
       "    <tr style=\"text-align: right;\">\n",
       "      <th></th>\n",
       "      <th>emotion</th>\n",
       "      <th>pixels</th>\n",
       "      <th>Usage</th>\n",
       "    </tr>\n",
       "  </thead>\n",
       "  <tbody>\n",
       "    <tr>\n",
       "      <th>0</th>\n",
       "      <td>0</td>\n",
       "      <td>70 80 82 72 58 58 60 63 54 58 60 48 89 115 121...</td>\n",
       "      <td>Training</td>\n",
       "    </tr>\n",
       "    <tr>\n",
       "      <th>1</th>\n",
       "      <td>0</td>\n",
       "      <td>151 150 147 155 148 133 111 140 170 174 182 15...</td>\n",
       "      <td>Training</td>\n",
       "    </tr>\n",
       "    <tr>\n",
       "      <th>2</th>\n",
       "      <td>2</td>\n",
       "      <td>231 212 156 164 174 138 161 173 182 200 106 38...</td>\n",
       "      <td>Training</td>\n",
       "    </tr>\n",
       "    <tr>\n",
       "      <th>3</th>\n",
       "      <td>4</td>\n",
       "      <td>24 32 36 30 32 23 19 20 30 41 21 22 32 34 21 1...</td>\n",
       "      <td>Training</td>\n",
       "    </tr>\n",
       "    <tr>\n",
       "      <th>4</th>\n",
       "      <td>6</td>\n",
       "      <td>4 0 0 0 0 0 0 0 0 0 0 0 3 15 23 28 48 50 58 84...</td>\n",
       "      <td>Training</td>\n",
       "    </tr>\n",
       "    <tr>\n",
       "      <th>...</th>\n",
       "      <td>...</td>\n",
       "      <td>...</td>\n",
       "      <td>...</td>\n",
       "    </tr>\n",
       "    <tr>\n",
       "      <th>35882</th>\n",
       "      <td>6</td>\n",
       "      <td>50 36 17 22 23 29 33 39 34 37 37 37 39 43 48 5...</td>\n",
       "      <td>PrivateTest</td>\n",
       "    </tr>\n",
       "    <tr>\n",
       "      <th>35883</th>\n",
       "      <td>3</td>\n",
       "      <td>178 174 172 173 181 188 191 194 196 199 200 20...</td>\n",
       "      <td>PrivateTest</td>\n",
       "    </tr>\n",
       "    <tr>\n",
       "      <th>35884</th>\n",
       "      <td>0</td>\n",
       "      <td>17 17 16 23 28 22 19 17 25 26 20 24 31 19 27 9...</td>\n",
       "      <td>PrivateTest</td>\n",
       "    </tr>\n",
       "    <tr>\n",
       "      <th>35885</th>\n",
       "      <td>3</td>\n",
       "      <td>30 28 28 29 31 30 42 68 79 81 77 67 67 71 63 6...</td>\n",
       "      <td>PrivateTest</td>\n",
       "    </tr>\n",
       "    <tr>\n",
       "      <th>35886</th>\n",
       "      <td>2</td>\n",
       "      <td>19 13 14 12 13 16 21 33 50 57 71 84 97 108 122...</td>\n",
       "      <td>PrivateTest</td>\n",
       "    </tr>\n",
       "  </tbody>\n",
       "</table>\n",
       "<p>35887 rows × 3 columns</p>\n",
       "</div>"
      ],
      "text/plain": [
       "       emotion                                             pixels        Usage\n",
       "0            0  70 80 82 72 58 58 60 63 54 58 60 48 89 115 121...     Training\n",
       "1            0  151 150 147 155 148 133 111 140 170 174 182 15...     Training\n",
       "2            2  231 212 156 164 174 138 161 173 182 200 106 38...     Training\n",
       "3            4  24 32 36 30 32 23 19 20 30 41 21 22 32 34 21 1...     Training\n",
       "4            6  4 0 0 0 0 0 0 0 0 0 0 0 3 15 23 28 48 50 58 84...     Training\n",
       "...        ...                                                ...          ...\n",
       "35882        6  50 36 17 22 23 29 33 39 34 37 37 37 39 43 48 5...  PrivateTest\n",
       "35883        3  178 174 172 173 181 188 191 194 196 199 200 20...  PrivateTest\n",
       "35884        0  17 17 16 23 28 22 19 17 25 26 20 24 31 19 27 9...  PrivateTest\n",
       "35885        3  30 28 28 29 31 30 42 68 79 81 77 67 67 71 63 6...  PrivateTest\n",
       "35886        2  19 13 14 12 13 16 21 33 50 57 71 84 97 108 122...  PrivateTest\n",
       "\n",
       "[35887 rows x 3 columns]"
      ]
     },
     "execution_count": 17,
     "metadata": {},
     "output_type": "execute_result"
    }
   ],
   "source": [
    "df"
   ]
  },
  {
   "cell_type": "code",
   "execution_count": 2,
   "metadata": {},
   "outputs": [],
   "source": [
    "df = pd.read_csv('../data/fer2013.csv')"
   ]
  },
  {
   "cell_type": "code",
   "execution_count": 3,
   "metadata": {},
   "outputs": [
    {
     "data": {
      "text/plain": [
       "Training       28709\n",
       "PrivateTest     3589\n",
       "PublicTest      3589\n",
       "Name: Usage, dtype: int64"
      ]
     },
     "execution_count": 3,
     "metadata": {},
     "output_type": "execute_result"
    }
   ],
   "source": [
    "df.Usage.value_counts()"
   ]
  },
  {
   "cell_type": "code",
   "execution_count": 4,
   "metadata": {},
   "outputs": [],
   "source": [
    "training_df = df[df['Usage'] == 'Training']\n",
    "validation_df = df[df['Usage'] == 'PublicTest']\n",
    "test_df = df[df.Usage == 'PrivateTest']"
   ]
  },
  {
   "cell_type": "code",
   "execution_count": 5,
   "metadata": {},
   "outputs": [],
   "source": [
    "Emotions = [\"Angry\", \"Disgust\", \"Fear\", \"Happy\", \"Sad\", \"Surprise\", \"Neutral\"]"
   ]
  },
  {
   "cell_type": "code",
   "execution_count": 6,
   "metadata": {},
   "outputs": [
    {
     "data": {
      "text/plain": [
       "0    3995\n",
       "1     436\n",
       "2    4097\n",
       "3    7215\n",
       "4    4830\n",
       "5    3171\n",
       "6    4965\n",
       "Name: emotion, dtype: int64"
      ]
     },
     "execution_count": 6,
     "metadata": {},
     "output_type": "execute_result"
    }
   ],
   "source": [
    "training_df[\"emotion\"].value_counts(sort=False)"
   ]
  },
  {
   "cell_type": "code",
   "execution_count": 7,
   "metadata": {},
   "outputs": [],
   "source": [
    "def fer2013_show_instance(index):\n",
    "    \"\"\"Shows the image and the emotion label of the index's instance.\"\"\"\n",
    "    image = np.reshape(training_df.at[index, \"pixels\"].split(\" \"), (48, 48)).astype(\"float\")\n",
    "    image -= np.mean(image)\n",
    "    image /= np.std(image)\n",
    "    print(Emotions[training_df.at[index, \"emotion\"]])\n",
    "    plt.imshow(image, cmap=\"gray\")"
   ]
  },
  {
   "cell_type": "code",
   "execution_count": 8,
   "metadata": {},
   "outputs": [
    {
     "name": "stdout",
     "output_type": "stream",
     "text": [
      "Happy\n"
     ]
    },
    {
     "data": {
      "image/png": "[encoded data removed]",
      "text/plain": [
       "<Figure size 432x288 with 1 Axes>"
      ]
     },
     "metadata": {},
     "output_type": "display_data"
    }
   ],
   "source": [
    "fer2013_show_instance(np.random.randint(0,len(training_df)))"
   ]
  },
  {
   "cell_type": "code",
   "execution_count": 9,
   "metadata": {},
   "outputs": [],
   "source": [
    "def fer2013_to_X(df):\n",
    "    \"\"\"Transforms the (blank separated) pixel strings in the DataFrame to an 3-dimensional array \n",
    "    (1st dim: instances, 2nd and 3rd dims represent 2D image).\"\"\"\n",
    "    \n",
    "    X = []\n",
    "    pixels_list = df[\"pixels\"].values\n",
    "    \n",
    "    for pixels in pixels_list:\n",
    "        single_image = np.reshape(pixels.split(\" \"), (48, 48)).astype(\"float\")\n",
    "        X.append(single_image)\n",
    "        \n",
    "    # Convert list to 4D array:\n",
    "    X = np.expand_dims(np.array(X), -1)\n",
    "    \n",
    "    # Normalize image data:\n",
    "    X -= np.mean(X, axis=0)\n",
    "    X /= np.std(X, axis=0)\n",
    "    \n",
    "    return X"
   ]
  },
  {
   "cell_type": "code",
   "execution_count": 10,
   "metadata": {},
   "outputs": [],
   "source": [
    "X_val = fer2013_to_X(validation_df)"
   ]
  },
  {
   "cell_type": "code",
   "execution_count": 11,
   "metadata": {},
   "outputs": [
    {
     "data": {
      "text/plain": [
       "(3589, 7)"
      ]
     },
     "execution_count": 11,
     "metadata": {},
     "output_type": "execute_result"
    }
   ],
   "source": [
    "# Get labels (one-hot encoded)\n",
    "y_val = pd.get_dummies(validation_df['emotion']).values\n",
    "y_val.shape"
   ]
  },
  {
   "cell_type": "code",
   "execution_count": 12,
   "metadata": {},
   "outputs": [],
   "source": [
    "X = fer2013_to_X(training_df)"
   ]
  },
  {
   "cell_type": "code",
   "execution_count": 13,
   "metadata": {},
   "outputs": [
    {
     "data": {
      "text/plain": [
       "(28709, 48, 48, 1)"
      ]
     },
     "execution_count": 13,
     "metadata": {},
     "output_type": "execute_result"
    }
   ],
   "source": [
    "X.shape"
   ]
  },
  {
   "cell_type": "code",
   "execution_count": 14,
   "metadata": {},
   "outputs": [
    {
     "data": {
      "text/plain": [
       "(28709, 7)"
      ]
     },
     "execution_count": 14,
     "metadata": {},
     "output_type": "execute_result"
    }
   ],
   "source": [
    "# Get labels (one-hot encoded)\n",
    "y = pd.get_dummies(training_df['emotion']).values\n",
    "y.shape"
   ]
  },
  {
   "cell_type": "code",
   "execution_count": 153,
   "metadata": {},
   "outputs": [],
   "source": [
    "# Save data\n",
    "np.save(\"fer2013_X_train\", X)\n",
    "np.save(\"fer2013_y_train\", y)"
   ]
  },
  {
   "cell_type": "code",
   "execution_count": 16,
   "metadata": {},
   "outputs": [],
   "source": [
    "# batch_size = 64\n",
    "# train_data_dir = '../data/Fer/Training'\n",
    "# validation_data_dir = '../data/Fer/Validation'\n",
    "\n",
    "# num_classes = 7\n",
    "\n",
    "# train_datagen = ImageDataGenerator(\n",
    "#                     rescale=1./255,\n",
    "#                     rotation_range=30,\n",
    "#                     shear_range=0.3,\n",
    "#                     zoom_range=0.3,\n",
    "#                     width_shift_range=0.4,\n",
    "#                     height_shift_range=0.4,\n",
    "#                     horizontal_flip=True,\n",
    "#                     fill_mode='nearest')\n",
    "\n",
    "# validation_datagen = ImageDataGenerator(rescale=1./255)\n",
    "\n",
    "\n",
    "# train_generator = train_datagen.flow_from_directory(\n",
    "#                         train_data_dir,\n",
    "#                         color_mode='grayscale',\n",
    "#                         target_size = (48,48),\n",
    "#                         batch_size = batch_size,\n",
    "#                         class_mode = 'categorical',\n",
    "#                         shuffle=True,\n",
    "#                         classes = ['0','1','2','3','4','5','6']\n",
    "#                         )\n",
    "\n",
    "# validation_generator = validation_datagen.flow_from_directory(\n",
    "#                             validation_data_dir,\n",
    "#                             color_mode='grayscale',\n",
    "#                             target_size=(48,48),\n",
    "#                             batch_size=batch_size,\n",
    "#                             class_mode='categorical',\n",
    "#                             shuffle=True)"
   ]
  },
  {
   "cell_type": "code",
   "execution_count": 17,
   "metadata": {},
   "outputs": [],
   "source": [
    "# nb_train_samples = 28728\n",
    "# nb_validation_samples = 3589"
   ]
  },
  {
   "cell_type": "code",
   "execution_count": null,
   "metadata": {},
   "outputs": [],
   "source": []
  },
  {
   "cell_type": "code",
   "execution_count": 19,
   "metadata": {},
   "outputs": [],
   "source": [
    "def my_model():\n",
    "    model = Sequential()\n",
    "    input_shape = (48,48,1)\n",
    "    model.add(Conv2D(64, (3, 3), input_shape=input_shape,activation='relu', padding='same'))\n",
    "    model.add(Conv2D(64, (3, 3), activation='relu', padding='same'))\n",
    "    model.add(BatchNormalization())\n",
    "    model.add(MaxPooling2D(pool_size=(2, 2)))\n",
    "\n",
    "    model.add(Conv2D(128, (5, 5),activation='relu',padding='same'))\n",
    "    model.add(Conv2D(128, (5, 5),activation='relu',padding='same'))\n",
    "    model.add(BatchNormalization())\n",
    "    model.add(MaxPooling2D(pool_size=(2, 2)))\n",
    "\n",
    "    model.add(Conv2D(256, (3, 3),activation='relu',padding='same'))\n",
    "    model.add(Conv2D(256, (3, 3),activation='relu',padding='same'))\n",
    "    model.add(BatchNormalization())\n",
    "    model.add(MaxPooling2D(pool_size=(2, 2)))\n",
    "\n",
    "    model.add(Flatten())\n",
    "    model.add(Dense(256))\n",
    "    model.add(Activation('relu'))\n",
    "    model.add(Dense(256))\n",
    "    model.add(Activation('relu'))\n",
    "    model.add(Dropout(0.2))\n",
    "    model.add(Dense(7))\n",
    "    model.add(Activation('softmax'))\n",
    "    \n",
    "    model.compile(loss='categorical_crossentropy', metrics=['accuracy'],optimizer=Adam(lr=0.001))\n",
    "    # UNCOMMENT THIS TO VIEW THE ARCHITECTURE\n",
    "    #model.summary()\n",
    "    \n",
    "    return model\n",
    "model=my_model()"
   ]
  },
  {
   "cell_type": "code",
   "execution_count": 23,
   "metadata": {},
   "outputs": [],
   "source": [
    "earlystop = EarlyStopping(monitor='val_loss',\n",
    "                          patience=20,\n",
    "                          verbose=1,\n",
    "                          restore_best_weights=True\n",
    "                          )\n",
    "\n",
    "reduce_lr = ReduceLROnPlateau(monitor='val_loss',\n",
    "                              factor=0.2,\n",
    "                              patience=20,\n",
    "                              verbose=1,\n",
    "                              min_delta=0.0001)"
   ]
  },
  {
   "cell_type": "code",
   "execution_count": 25,
   "metadata": {},
   "outputs": [
    {
     "name": "stdout",
     "output_type": "stream",
     "text": [
      "Train on 28709 samples, validate on 3589 samples\n",
      "Epoch 1/100\n",
      "28709/28709 [==============================] - 29s 1ms/step - loss: 0.1143 - acc: 0.9642 - val_loss: 2.2312 - val_acc: 0.6085\n",
      "Epoch 2/100\n",
      "28709/28709 [==============================] - 29s 1ms/step - loss: 0.1023 - acc: 0.9675 - val_loss: 2.3433 - val_acc: 0.6124\n",
      "Epoch 3/100\n",
      "28709/28709 [==============================] - 29s 1ms/step - loss: 0.0899 - acc: 0.9719 - val_loss: 2.3674 - val_acc: 0.6275\n",
      "Epoch 4/100\n",
      "28709/28709 [==============================] - 29s 1ms/step - loss: 0.0925 - acc: 0.9726 - val_loss: 2.3584 - val_acc: 0.6130\n",
      "Epoch 5/100\n",
      "28709/28709 [==============================] - 29s 1ms/step - loss: 0.0878 - acc: 0.9737 - val_loss: 2.2990 - val_acc: 0.6094\n",
      "Epoch 6/100\n",
      "28709/28709 [==============================] - 29s 1ms/step - loss: 0.0857 - acc: 0.9736 - val_loss: 2.2688 - val_acc: 0.6160\n",
      "Epoch 7/100\n",
      "28709/28709 [==============================] - 29s 1ms/step - loss: 0.0859 - acc: 0.9722 - val_loss: 2.3823 - val_acc: 0.6108\n",
      "Epoch 8/100\n",
      "28709/28709 [==============================] - 29s 1ms/step - loss: 0.0726 - acc: 0.9788 - val_loss: 2.4149 - val_acc: 0.6124\n",
      "Epoch 9/100\n",
      "28709/28709 [==============================] - 29s 1ms/step - loss: 0.0801 - acc: 0.9771 - val_loss: 2.4396 - val_acc: 0.6004\n",
      "Epoch 10/100\n",
      "28709/28709 [==============================] - 29s 1ms/step - loss: 0.0749 - acc: 0.9782 - val_loss: 2.5712 - val_acc: 0.6258\n",
      "Epoch 11/100\n",
      "28709/28709 [==============================] - 29s 1ms/step - loss: 0.0613 - acc: 0.9815 - val_loss: 2.5271 - val_acc: 0.6241\n",
      "Epoch 12/100\n",
      "28709/28709 [==============================] - 29s 1ms/step - loss: 0.0773 - acc: 0.9759 - val_loss: 2.2194 - val_acc: 0.6155\n",
      "Epoch 13/100\n",
      "28709/28709 [==============================] - 29s 1ms/step - loss: 0.0757 - acc: 0.9765 - val_loss: 2.3796 - val_acc: 0.6244\n",
      "Epoch 14/100\n",
      "28709/28709 [==============================] - 29s 1ms/step - loss: 0.0593 - acc: 0.9817 - val_loss: 2.4647 - val_acc: 0.6219\n",
      "Epoch 15/100\n",
      "28709/28709 [==============================] - 29s 1ms/step - loss: 0.0677 - acc: 0.9793 - val_loss: 2.5193 - val_acc: 0.6074\n",
      "Epoch 16/100\n",
      "28709/28709 [==============================] - 29s 1ms/step - loss: 0.0643 - acc: 0.9811 - val_loss: 2.4948 - val_acc: 0.6188\n",
      "Epoch 17/100\n",
      "28709/28709 [==============================] - 29s 1ms/step - loss: 0.0540 - acc: 0.9851 - val_loss: 2.4372 - val_acc: 0.6272\n",
      "Epoch 18/100\n",
      "28709/28709 [==============================] - 29s 1ms/step - loss: 0.0542 - acc: 0.9831 - val_loss: 2.6814 - val_acc: 0.6258\n",
      "Epoch 19/100\n",
      "28709/28709 [==============================] - 29s 1ms/step - loss: 0.0674 - acc: 0.9804 - val_loss: 2.5062 - val_acc: 0.6222\n",
      "Epoch 20/100\n",
      "28709/28709 [==============================] - 29s 1ms/step - loss: 0.0628 - acc: 0.9821 - val_loss: 2.5781 - val_acc: 0.6211\n",
      "Epoch 21/100\n",
      "28709/28709 [==============================] - 29s 1ms/step - loss: 0.0626 - acc: 0.9808 - val_loss: 2.3675 - val_acc: 0.6372\n",
      "Epoch 22/100\n",
      "28709/28709 [==============================] - 29s 1ms/step - loss: 0.0484 - acc: 0.9854 - val_loss: 2.5892 - val_acc: 0.6278\n",
      "Epoch 23/100\n",
      "28709/28709 [==============================] - 29s 1ms/step - loss: 0.0605 - acc: 0.9819 - val_loss: 2.4155 - val_acc: 0.6177\n",
      "Epoch 24/100\n",
      "28709/28709 [==============================] - 29s 1ms/step - loss: 0.0500 - acc: 0.9852 - val_loss: 2.4682 - val_acc: 0.6186\n",
      "Epoch 25/100\n",
      "28709/28709 [==============================] - 29s 1ms/step - loss: 0.0501 - acc: 0.9851 - val_loss: 2.8363 - val_acc: 0.6225\n",
      "Epoch 26/100\n",
      "28709/28709 [==============================] - 29s 1ms/step - loss: 0.0562 - acc: 0.9827 - val_loss: 2.7933 - val_acc: 0.6172\n",
      "Epoch 27/100\n",
      "28709/28709 [==============================] - 29s 1ms/step - loss: 0.0569 - acc: 0.9827 - val_loss: 2.8593 - val_acc: 0.6174\n",
      "Epoch 28/100\n",
      "28709/28709 [==============================] - 29s 1ms/step - loss: 0.0481 - acc: 0.9846 - val_loss: 2.4890 - val_acc: 0.6199\n",
      "Epoch 29/100\n",
      "28709/28709 [==============================] - 29s 1ms/step - loss: 0.0497 - acc: 0.9846 - val_loss: 2.7397 - val_acc: 0.6283\n",
      "Epoch 30/100\n",
      "28709/28709 [==============================] - 29s 1ms/step - loss: 0.0429 - acc: 0.9871 - val_loss: 2.8642 - val_acc: 0.6205\n",
      "Epoch 31/100\n",
      "28709/28709 [==============================] - 29s 1ms/step - loss: 0.0341 - acc: 0.9893 - val_loss: 2.5734 - val_acc: 0.6138\n",
      "Epoch 32/100\n",
      "28709/28709 [==============================] - 29s 1ms/step - loss: 0.0439 - acc: 0.9860 - val_loss: 2.7144 - val_acc: 0.6272\n",
      "Restoring model weights from the end of the best epoch\n",
      "\n",
      "Epoch 00032: ReduceLROnPlateau reducing learning rate to 0.00020000000949949026.\n",
      "Epoch 00032: early stopping\n"
     ]
    }
   ],
   "source": [
    "h=model.fit(x=X,     \n",
    "            y=y, \n",
    "            batch_size=64, \n",
    "            epochs=100, \n",
    "            verbose=1, \n",
    "            validation_data=(X_val,y_val),\n",
    "            shuffle=True,\n",
    "            callbacks=[earlystop, reduce_lr]\n",
    "            )"
   ]
  },
  {
   "cell_type": "code",
   "execution_count": 26,
   "metadata": {},
   "outputs": [
    {
     "name": "stdout",
     "output_type": "stream",
     "text": [
      "3589/3589 [==============================] - 2s 477us/step\n",
      "acc: 61.55%\n"
     ]
    }
   ],
   "source": [
    "scores = model.evaluate(X_val, y_val)\n",
    "print('%s: %.2f%%'% (model.metrics_names[1], scores[1]*100))"
   ]
  },
  {
   "cell_type": "code",
   "execution_count": 27,
   "metadata": {},
   "outputs": [],
   "source": [
    "\n",
    "model.save('fer2013.h5')\n",
    "model.save_weights('fer2013_weights.h5')"
   ]
  },
  {
   "cell_type": "code",
   "execution_count": 30,
   "metadata": {},
   "outputs": [],
   "source": [
    "def get_emotion(ohv):\n",
    "    if ohv.shape[0] == 1:\n",
    "        indx = ohv[0]\n",
    "    else:\n",
    "        indx = np.argmax(ohv)\n",
    "        \n",
    "    if indx == 0:\n",
    "        return 'angry'\n",
    "    elif indx == 1:\n",
    "        return 'disgust'\n",
    "    elif indx == 2:\n",
    "        return 'fear'\n",
    "    elif indx == 3:\n",
    "        return 'happy'\n",
    "    elif indx == 4:\n",
    "        return 'sad'\n",
    "    elif indx == 5:\n",
    "        return 'surprise'\n",
    "    elif indx == 6:\n",
    "        return 'neutral'"
   ]
  },
  {
   "cell_type": "code",
   "execution_count": 51,
   "metadata": {},
   "outputs": [
    {
     "data": {
      "image/png": "[encoded data removed]",
      "text/plain": [
       "<Figure size 432x288 with 1 Axes>"
      ]
     },
     "metadata": {},
     "output_type": "display_data"
    },
    {
     "name": "stdout",
     "output_type": "stream",
     "text": [
      "> testing image index: 3551\n",
      "> true emotion: disgust\n",
      "> predicted emotion: disgust\n"
     ]
    }
   ],
   "source": [
    "\n",
    "# 2163\n",
    "img_indx = np.uint32(np.random.rand()*(validation_df.shape[0] - 1))\n",
    "sample = X_val[img_indx, :]\n",
    "sample = sample.reshape(48, 48)\n",
    "\n",
    "pred_cls = model.predict_classes(sample.reshape(1, 48, 48, 1))\n",
    "\n",
    "plt.imshow(sample, cmap='gray')\n",
    "plt.show()\n",
    "print('> testing image index: %d\\n> true emotion: %s\\n> predicted emotion: %s' % (img_indx, get_emotion(y_val[img_indx, :]), get_emotion(pred_cls)))"
   ]
  },
  {
   "cell_type": "code",
   "execution_count": 20,
   "metadata": {},
   "outputs": [],
   "source": [
    "from keras.optimizers import RMSprop,SGD,Adam\n",
    "from keras.callbacks import ModelCheckpoint, EarlyStopping, ReduceLROnPlateau\n",
    "\n",
    "# checkpoint = ModelCheckpoint('Emotion_little_vgg.h5',\n",
    "#                              monitor='val_loss',\n",
    "#                              mode='min',\n",
    "#                              save_best_only=True,\n",
    "#   "
   ]
  }
 ],
 "metadata": {
  "kernelspec": {
   "display_name": "Environment (conda_tensorflow_p36)",
   "language": "python",
   "name": "conda_tensorflow_p36"
  },
  "language_info": {
   "codemirror_mode": {
    "name": "ipython",
    "version": 3
   },
   "file_extension": ".py",
   "mimetype": "text/x-python",
   "name": "python",
   "nbconvert_exporter": "python",
   "pygments_lexer": "ipython3",
   "version": "3.6.10"
  }
 },
 "nbformat": 4,
 "nbformat_minor": 4
}
